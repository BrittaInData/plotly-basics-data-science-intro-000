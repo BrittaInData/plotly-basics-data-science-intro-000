{
 "cells": [
  {
   "cell_type": "markdown",
   "metadata": {},
   "source": [
    "# Going deeper with Plotly"
   ]
  },
  {
   "cell_type": "markdown",
   "metadata": {},
   "source": [
    "### Learning Objectives"
   ]
  },
  {
   "cell_type": "markdown",
   "metadata": {},
   "source": [
    "* Understand the iplot method\n",
    "* Understand how to create different traces/plots like a scatter plot, or a line plot\n",
    "* Understand how to have a chart with multiple traces"
   ]
  },
  {
   "cell_type": "markdown",
   "metadata": {},
   "source": [
    "### Introduction"
   ]
  },
  {
   "cell_type": "markdown",
   "metadata": {},
   "source": [
    "As you've seen in recent lessons, data science leans on data visualizations to draw inferences about our data, and to make sense of the math we use in making sense of this data.  We saw how plotting data with a bar chart can be used to show the relationship between $x$ and $y$ variables.  \n",
    "\n",
    "In this lesson, we'll explore more of the functionality of the Plotly library.  As we do so, pay careful attention to the data type that our methods require: whether they are dictionaries or lists, or lists of dictionaries.  Ok, let's go!"
   ]
  },
  {
   "cell_type": "markdown",
   "metadata": {},
   "source": [
    "### Drawing a line"
   ]
  },
  {
   "cell_type": "markdown",
   "metadata": {},
   "source": [
    "As you know, to get started with Plotly, we first install the library on our computer.  Let's do so in Jupyter by executing the cell below."
   ]
  },
  {
   "cell_type": "code",
   "execution_count": 1,
   "metadata": {},
   "outputs": [
    {
     "name": "stdout",
     "output_type": "stream",
     "text": [
      "Requirement already satisfied: plotly in /opt/conda/lib/python3.6/site-packages (3.1.1)\n",
      "Requirement already satisfied: decorator>=4.0.6 in /opt/conda/lib/python3.6/site-packages (from plotly) (4.3.0)\n",
      "Requirement already satisfied: nbformat>=4.2 in /opt/conda/lib/python3.6/site-packages (from plotly) (4.4.0)\n",
      "Requirement already satisfied: pytz in /opt/conda/lib/python3.6/site-packages (from plotly) (2018.5)\n",
      "Requirement already satisfied: requests in /opt/conda/lib/python3.6/site-packages (from plotly) (2.18.4)\n",
      "Requirement already satisfied: retrying>=1.3.3 in /opt/conda/lib/python3.6/site-packages (from plotly) (1.3.3)\n",
      "Requirement already satisfied: six in /opt/conda/lib/python3.6/site-packages (from plotly) (1.11.0)\n",
      "Requirement already satisfied: ipython_genutils in /opt/conda/lib/python3.6/site-packages (from nbformat>=4.2->plotly) (0.2.0)\n",
      "Requirement already satisfied: traitlets>=4.1 in /opt/conda/lib/python3.6/site-packages (from nbformat>=4.2->plotly) (4.3.2)\n",
      "Requirement already satisfied: jsonschema!=2.5.0,>=2.4 in /opt/conda/lib/python3.6/site-packages (from nbformat>=4.2->plotly) (2.6.0)\n",
      "Requirement already satisfied: jupyter_core in /opt/conda/lib/python3.6/site-packages (from nbformat>=4.2->plotly) (4.4.0)\n",
      "Requirement already satisfied: chardet<3.1.0,>=3.0.2 in /opt/conda/lib/python3.6/site-packages (from requests->plotly) (3.0.4)\n",
      "Requirement already satisfied: idna<2.7,>=2.5 in /opt/conda/lib/python3.6/site-packages (from requests->plotly) (2.6)\n",
      "Requirement already satisfied: urllib3<1.23,>=1.21.1 in /opt/conda/lib/python3.6/site-packages (from requests->plotly) (1.22)\n",
      "Requirement already satisfied: certifi>=2017.4.17 in /opt/conda/lib/python3.6/site-packages (from requests->plotly) (2018.8.24)\n"
     ]
    }
   ],
   "source": [
    "!pip install plotly"
   ]
  },
  {
   "cell_type": "markdown",
   "metadata": {},
   "source": [
    "If plotly is already on your computer, pip will tell you that the requirement is already satisfied.  That's ok, we can happily proceed."
   ]
  },
  {
   "cell_type": "markdown",
   "metadata": {},
   "source": [
    "The next step is to import the plotly library. "
   ]
  },
  {
   "cell_type": "code",
   "execution_count": 2,
   "metadata": {},
   "outputs": [
    {
     "data": {
      "text/html": [
       "<script>requirejs.config({paths: { 'plotly': ['https://cdn.plot.ly/plotly-latest.min']},});if(!window.Plotly) {{require(['plotly'],function(plotly) {window.Plotly=plotly;});}}</script>"
      ],
      "text/vnd.plotly.v1+html": [
       "<script>requirejs.config({paths: { 'plotly': ['https://cdn.plot.ly/plotly-latest.min']},});if(!window.Plotly) {{require(['plotly'],function(plotly) {window.Plotly=plotly;});}}</script>"
      ]
     },
     "metadata": {},
     "output_type": "display_data"
    }
   ],
   "source": [
    "import plotly\n",
    "from plotly.offline import iplot, init_notebook_mode\n",
    "init_notebook_mode(connected=True)"
   ]
  },
  {
   "cell_type": "markdown",
   "metadata": {},
   "source": [
    "If we plot offline, we do not need to provide a login.  So we plot offline, while plotting our first plot with the below line."
   ]
  },
  {
   "cell_type": "code",
   "execution_count": 3,
   "metadata": {},
   "outputs": [
    {
     "data": {
      "application/vnd.plotly.v1+json": {
       "data": [
        {
         "type": "scatter",
         "uid": "3a53f5ce-c099-11e8-b7a1-0242ac110006"
        }
       ],
       "layout": {}
      },
      "text/html": [
       "<div id=\"bfe8e643-3119-44c8-ba20-6562373a80dd\" style=\"height: 525px; width: 100%;\" class=\"plotly-graph-div\"></div><script type=\"text/javascript\">require([\"plotly\"], function(Plotly) { window.PLOTLYENV=window.PLOTLYENV || {};window.PLOTLYENV.BASE_URL=\"https://plot.ly\";Plotly.newPlot(\"bfe8e643-3119-44c8-ba20-6562373a80dd\", [{\"type\": \"scatter\", \"uid\": \"3a8c98e8-c099-11e8-b7a1-0242ac110006\"}], {}, {\"showLink\": true, \"linkText\": \"Export to plot.ly\"})});</script>"
      ],
      "text/vnd.plotly.v1+html": [
       "<div id=\"bfe8e643-3119-44c8-ba20-6562373a80dd\" style=\"height: 525px; width: 100%;\" class=\"plotly-graph-div\"></div><script type=\"text/javascript\">require([\"plotly\"], function(Plotly) { window.PLOTLYENV=window.PLOTLYENV || {};window.PLOTLYENV.BASE_URL=\"https://plot.ly\";Plotly.newPlot(\"bfe8e643-3119-44c8-ba20-6562373a80dd\", [{\"type\": \"scatter\", \"uid\": \"3a8c98e8-c099-11e8-b7a1-0242ac110006\"}], {}, {\"showLink\": true, \"linkText\": \"Export to plot.ly\"})});</script>"
      ]
     },
     "metadata": {},
     "output_type": "display_data"
    }
   ],
   "source": [
    "plotly.offline.iplot([{}])"
   ]
  },
  {
   "cell_type": "markdown",
   "metadata": {},
   "source": [
    "Let's take another look at that line of code.\n",
    "```python\n",
    "plotly.offline.iplot([\n",
    "    {}\n",
    "])\n",
    "```\n",
    "\n",
    "We reference the `plotly` library, which we imported above.  Then we pass a list containing a dictionary to the `iplot` method.  That dictionary can represent a scatter trace, a line trace, or other types of traces.  \n",
    "\n",
    "We pass the trace into a list because we can have more than one trace in the same graph - for example two bar traces displayed side by side or a scatter trace underneath a line trace.  "
   ]
  },
  {
   "cell_type": "markdown",
   "metadata": {},
   "source": [
    "Now let's discuss how a trace represents data.  In the `trace` in the code below, we plot four points.  Notice that we provide the $x$ and $y$ coordinates in two separate attributes of the dictionary.  Change around the data to get a feel for how it works."
   ]
  },
  {
   "cell_type": "code",
   "execution_count": 4,
   "metadata": {},
   "outputs": [
    {
     "data": {
      "application/vnd.plotly.v1+json": {
       "data": [
        {
         "type": "scatter",
         "uid": "77e15c9c-c099-11e8-b7a1-0242ac110006",
         "x": [
          1,
          2,
          3,
          4
         ],
         "y": [
          1,
          2,
          3,
          4
         ]
        }
       ],
       "layout": {}
      },
      "text/html": [
       "<div id=\"22e9695f-efc0-4370-b5de-f7dd034057ef\" style=\"height: 525px; width: 100%;\" class=\"plotly-graph-div\"></div><script type=\"text/javascript\">require([\"plotly\"], function(Plotly) { window.PLOTLYENV=window.PLOTLYENV || {};window.PLOTLYENV.BASE_URL=\"https://plot.ly\";Plotly.newPlot(\"22e9695f-efc0-4370-b5de-f7dd034057ef\", [{\"x\": [1, 2, 3, 4], \"y\": [1, 2, 3, 4], \"type\": \"scatter\", \"uid\": \"77ef4dc0-c099-11e8-b7a1-0242ac110006\"}], {}, {\"showLink\": true, \"linkText\": \"Export to plot.ly\"})});</script>"
      ],
      "text/vnd.plotly.v1+html": [
       "<div id=\"22e9695f-efc0-4370-b5de-f7dd034057ef\" style=\"height: 525px; width: 100%;\" class=\"plotly-graph-div\"></div><script type=\"text/javascript\">require([\"plotly\"], function(Plotly) { window.PLOTLYENV=window.PLOTLYENV || {};window.PLOTLYENV.BASE_URL=\"https://plot.ly\";Plotly.newPlot(\"22e9695f-efc0-4370-b5de-f7dd034057ef\", [{\"x\": [1, 2, 3, 4], \"y\": [1, 2, 3, 4], \"type\": \"scatter\", \"uid\": \"77ef4dc0-c099-11e8-b7a1-0242ac110006\"}], {}, {\"showLink\": true, \"linkText\": \"Export to plot.ly\"})});</script>"
      ]
     },
     "metadata": {},
     "output_type": "display_data"
    }
   ],
   "source": [
    "trace = {'x': [1, 2, 3, 4], 'y': [1, 2, 3, 4]}\n",
    "\n",
    "plotly.offline.iplot([trace])"
   ]
  },
  {
   "cell_type": "markdown",
   "metadata": {},
   "source": [
    "The plot above has one trace which is a line trace.  However, this type of trace is just the default.  Note, that we did not specify any particular type.\n",
    "\n",
    "```python\n",
    "trace = {'x': [1, 2, 3, 4], 'y': [1, 2, 3, 4]}\n",
    "```\n",
    "\n",
    "We can change it by changing the mode to `markers`.  While we are at it, let's also change the color of the markers.  "
   ]
  },
  {
   "cell_type": "code",
   "execution_count": 5,
   "metadata": {},
   "outputs": [
    {
     "data": {
      "application/vnd.plotly.v1+json": {
       "data": [
        {
         "marker": {
          "color": "rgba(255, 182, 193, .9)"
         },
         "mode": "markers",
         "type": "scatter",
         "uid": "89bf8c4a-c099-11e8-b7a1-0242ac110006",
         "x": [
          1,
          2,
          3,
          4
         ],
         "y": [
          1,
          2,
          3,
          4
         ]
        }
       ],
       "layout": {}
      },
      "text/html": [
       "<div id=\"df71fca7-5e47-4512-9f84-65e59c2a773d\" style=\"height: 525px; width: 100%;\" class=\"plotly-graph-div\"></div><script type=\"text/javascript\">require([\"plotly\"], function(Plotly) { window.PLOTLYENV=window.PLOTLYENV || {};window.PLOTLYENV.BASE_URL=\"https://plot.ly\";Plotly.newPlot(\"df71fca7-5e47-4512-9f84-65e59c2a773d\", [{\"marker\": {\"color\": \"rgba(255, 182, 193, .9)\"}, \"mode\": \"markers\", \"x\": [1, 2, 3, 4], \"y\": [1, 2, 3, 4], \"type\": \"scatter\", \"uid\": \"89c38b6a-c099-11e8-b7a1-0242ac110006\"}], {}, {\"showLink\": true, \"linkText\": \"Export to plot.ly\"})});</script>"
      ],
      "text/vnd.plotly.v1+html": [
       "<div id=\"df71fca7-5e47-4512-9f84-65e59c2a773d\" style=\"height: 525px; width: 100%;\" class=\"plotly-graph-div\"></div><script type=\"text/javascript\">require([\"plotly\"], function(Plotly) { window.PLOTLYENV=window.PLOTLYENV || {};window.PLOTLYENV.BASE_URL=\"https://plot.ly\";Plotly.newPlot(\"df71fca7-5e47-4512-9f84-65e59c2a773d\", [{\"marker\": {\"color\": \"rgba(255, 182, 193, .9)\"}, \"mode\": \"markers\", \"x\": [1, 2, 3, 4], \"y\": [1, 2, 3, 4], \"type\": \"scatter\", \"uid\": \"89c38b6a-c099-11e8-b7a1-0242ac110006\"}], {}, {\"showLink\": true, \"linkText\": \"Export to plot.ly\"})});</script>"
      ]
     },
     "metadata": {},
     "output_type": "display_data"
    }
   ],
   "source": [
    "trace = {'x': [1, 2, 3, 4], 'y': [1, 2, 3, 4], 'mode': 'markers', 'marker': {'color': 'rgba(255, 182, 193, .9)'}}\n",
    "\n",
    "plotly.offline.iplot([trace])"
   ]
  },
  {
   "cell_type": "markdown",
   "metadata": {},
   "source": [
    "Cool!  So we changed the code to markers and changed the colors of those markers by setting the rgb (red, green, blue) value.\n",
    "\n",
    "```python\n",
    "trace = {'x': [1, 2, 3, 4], 'y': [1, 2, 3, 4], 'mode': 'markers', 'marker': {'color': 'rgba(255, 182, 193, .9)'}}\n",
    "```"
   ]
  },
  {
   "cell_type": "markdown",
   "metadata": {},
   "source": [
    "Now let's add more than one trace to a given graph.  We'll keep the first trace largely the same by using the same data, and color of markers.  We'll name our trace 'Some dots'  by adding the name attribute and set it equal to the corresponding string."
   ]
  },
  {
   "cell_type": "code",
   "execution_count": 6,
   "metadata": {},
   "outputs": [],
   "source": [
    "trace0 = {'x': [1, 2, 3, 4], \n",
    "          'y': [1, 2, 3, 4], \n",
    "          'mode': 'markers', \n",
    "          'marker': {'color': 'rgba(255, 182, 193, .9)'}, \n",
    "          'name': 'Some dots'}"
   ]
  },
  {
   "cell_type": "markdown",
   "metadata": {},
   "source": [
    "In the second trace, we have some new data, and set the color as blue.  Because we did not specify a mode, it defaults to connecting the points as a line.  And we name our trace as \"Our nice line\".   "
   ]
  },
  {
   "cell_type": "code",
   "execution_count": 7,
   "metadata": {},
   "outputs": [],
   "source": [
    "trace1 = {'x': [1.5, 2.5, 3.5, 4.5], \n",
    "          'y': [3, 5, 7, 9], \n",
    "          'marker': {'color': 'blue'},\n",
    "          'name': 'Our nice line'}"
   ]
  },
  {
   "cell_type": "markdown",
   "metadata": {},
   "source": [
    "Finally, we create a plot of the two traces.  "
   ]
  },
  {
   "cell_type": "code",
   "execution_count": 8,
   "metadata": {},
   "outputs": [
    {
     "data": {
      "application/vnd.plotly.v1+json": {
       "data": [
        {
         "marker": {
          "color": "rgba(255, 182, 193, .9)"
         },
         "mode": "markers",
         "name": "Some dots",
         "type": "scatter",
         "uid": "bbb5ec44-c099-11e8-b7a1-0242ac110006",
         "x": [
          1,
          2,
          3,
          4
         ],
         "y": [
          1,
          2,
          3,
          4
         ]
        },
        {
         "marker": {
          "color": "blue"
         },
         "name": "Our nice line",
         "type": "scatter",
         "uid": "bbb5ef0a-c099-11e8-b7a1-0242ac110006",
         "x": [
          1.5,
          2.5,
          3.5,
          4.5
         ],
         "y": [
          3,
          5,
          7,
          9
         ]
        }
       ],
       "layout": {}
      },
      "text/html": [
       "<div id=\"1207ad66-a06a-4228-b0c4-526a5c701122\" style=\"height: 525px; width: 100%;\" class=\"plotly-graph-div\"></div><script type=\"text/javascript\">require([\"plotly\"], function(Plotly) { window.PLOTLYENV=window.PLOTLYENV || {};window.PLOTLYENV.BASE_URL=\"https://plot.ly\";Plotly.newPlot(\"1207ad66-a06a-4228-b0c4-526a5c701122\", [{\"marker\": {\"color\": \"rgba(255, 182, 193, .9)\"}, \"mode\": \"markers\", \"name\": \"Some dots\", \"x\": [1, 2, 3, 4], \"y\": [1, 2, 3, 4], \"type\": \"scatter\", \"uid\": \"bbc57dee-c099-11e8-b7a1-0242ac110006\"}, {\"marker\": {\"color\": \"blue\"}, \"name\": \"Our nice line\", \"x\": [1.5, 2.5, 3.5, 4.5], \"y\": [3, 5, 7, 9], \"type\": \"scatter\", \"uid\": \"bbc58064-c099-11e8-b7a1-0242ac110006\"}], {}, {\"showLink\": true, \"linkText\": \"Export to plot.ly\"})});</script>"
      ],
      "text/vnd.plotly.v1+html": [
       "<div id=\"1207ad66-a06a-4228-b0c4-526a5c701122\" style=\"height: 525px; width: 100%;\" class=\"plotly-graph-div\"></div><script type=\"text/javascript\">require([\"plotly\"], function(Plotly) { window.PLOTLYENV=window.PLOTLYENV || {};window.PLOTLYENV.BASE_URL=\"https://plot.ly\";Plotly.newPlot(\"1207ad66-a06a-4228-b0c4-526a5c701122\", [{\"marker\": {\"color\": \"rgba(255, 182, 193, .9)\"}, \"mode\": \"markers\", \"name\": \"Some dots\", \"x\": [1, 2, 3, 4], \"y\": [1, 2, 3, 4], \"type\": \"scatter\", \"uid\": \"bbc57dee-c099-11e8-b7a1-0242ac110006\"}, {\"marker\": {\"color\": \"blue\"}, \"name\": \"Our nice line\", \"x\": [1.5, 2.5, 3.5, 4.5], \"y\": [3, 5, 7, 9], \"type\": \"scatter\", \"uid\": \"bbc58064-c099-11e8-b7a1-0242ac110006\"}], {}, {\"showLink\": true, \"linkText\": \"Export to plot.ly\"})});</script>"
      ]
     },
     "metadata": {},
     "output_type": "display_data"
    }
   ],
   "source": [
    "plotly.offline.iplot([trace0, trace1])"
   ]
  },
  {
   "cell_type": "markdown",
   "metadata": {},
   "source": [
    "### Working with types"
   ]
  },
  {
   "cell_type": "markdown",
   "metadata": {},
   "source": [
    "So far, we have only worked with either scatter charts or line charts.  The two charts are really quite similar -- connecting lines versus no connecting lines  -- and plotly treats them as such.  However, there are other ways of viewing the world beyond dots and lines.  Now let's see how.\n",
    "\n",
    "For example, we can make a bar chart, simply by specifying the in our dictionary that the `type` is `bar` for a `bar` trace."
   ]
  },
  {
   "cell_type": "code",
   "execution_count": 9,
   "metadata": {},
   "outputs": [
    {
     "data": {
      "application/vnd.plotly.v1+json": {
       "data": [
        {
         "marker": {
          "color": "blue"
         },
         "name": "Our nice bar trace",
         "type": "bar",
         "uid": "f6614d0c-c099-11e8-b7a1-0242ac110006",
         "x": [
          "bobby",
          "susan",
          "eli",
          "malcolm"
         ],
         "y": [
          3,
          5,
          7,
          9
         ]
        }
       ],
       "layout": {}
      },
      "text/html": [
       "<div id=\"00a6c305-6ab8-41b4-9382-89c9dba1a0a2\" style=\"height: 525px; width: 100%;\" class=\"plotly-graph-div\"></div><script type=\"text/javascript\">require([\"plotly\"], function(Plotly) { window.PLOTLYENV=window.PLOTLYENV || {};window.PLOTLYENV.BASE_URL=\"https://plot.ly\";Plotly.newPlot(\"00a6c305-6ab8-41b4-9382-89c9dba1a0a2\", [{\"marker\": {\"color\": \"blue\"}, \"name\": \"Our nice bar trace\", \"x\": [\"bobby\", \"susan\", \"eli\", \"malcolm\"], \"y\": [3, 5, 7, 9], \"type\": \"bar\", \"uid\": \"f66684fc-c099-11e8-b7a1-0242ac110006\"}], {}, {\"showLink\": true, \"linkText\": \"Export to plot.ly\"})});</script>"
      ],
      "text/vnd.plotly.v1+html": [
       "<div id=\"00a6c305-6ab8-41b4-9382-89c9dba1a0a2\" style=\"height: 525px; width: 100%;\" class=\"plotly-graph-div\"></div><script type=\"text/javascript\">require([\"plotly\"], function(Plotly) { window.PLOTLYENV=window.PLOTLYENV || {};window.PLOTLYENV.BASE_URL=\"https://plot.ly\";Plotly.newPlot(\"00a6c305-6ab8-41b4-9382-89c9dba1a0a2\", [{\"marker\": {\"color\": \"blue\"}, \"name\": \"Our nice bar trace\", \"x\": [\"bobby\", \"susan\", \"eli\", \"malcolm\"], \"y\": [3, 5, 7, 9], \"type\": \"bar\", \"uid\": \"f66684fc-c099-11e8-b7a1-0242ac110006\"}], {}, {\"showLink\": true, \"linkText\": \"Export to plot.ly\"})});</script>"
      ]
     },
     "metadata": {},
     "output_type": "display_data"
    }
   ],
   "source": [
    "bar_trace = {'type': 'bar', \n",
    "             'x': ['bobby', 'susan', 'eli', 'malcolm'], \n",
    "             'y': [3, 5, 7, 9], \n",
    "             'marker': {'color': 'blue'}, \n",
    "             'name': 'Our nice bar trace'}\n",
    "\n",
    "plotly.offline.iplot([bar_trace])"
   ]
  },
  {
   "cell_type": "markdown",
   "metadata": {},
   "source": [
    "Another way to create a bar chart is to use the constructor provided by plotly.  It's not too tricky to do so.  First, we import our `graph_objs` library from Plotly.  And then we call the bar chart constructor. "
   ]
  },
  {
   "cell_type": "code",
   "execution_count": 10,
   "metadata": {},
   "outputs": [
    {
     "data": {
      "text/plain": [
       "Bar({\n",
       "    'x': ['bobby', 'susan', 'eli', 'malcolm'], 'y': [3, 5, 7, 9]\n",
       "})"
      ]
     },
     "execution_count": 10,
     "metadata": {},
     "output_type": "execute_result"
    }
   ],
   "source": [
    "from plotly import graph_objs \n",
    "\n",
    "bar_trace_via_constructor = graph_objs.Bar(x=['bobby', 'susan', 'eli', 'malcolm'],y=[3, 5, 7, 9])\n",
    "bar_trace_via_constructor"
   ]
  },
  {
   "cell_type": "markdown",
   "metadata": {},
   "source": [
    "We refer to the function `graph_objs.Bar` as a constructor because it literally constructs python dictionaries with a key of `type` that equals `bar`.  Then, we can pass this dictionary to our `iplot` method to display our bar chart."
   ]
  },
  {
   "cell_type": "code",
   "execution_count": 11,
   "metadata": {},
   "outputs": [
    {
     "data": {
      "application/vnd.plotly.v1+json": {
       "data": [
        {
         "type": "bar",
         "uid": "0e5fc28a-c09a-11e8-b7a1-0242ac110006",
         "x": [
          "bobby",
          "susan",
          "eli",
          "malcolm"
         ],
         "y": [
          3,
          5,
          7,
          9
         ]
        }
       ],
       "layout": {}
      },
      "text/html": [
       "<div id=\"80d521fd-5260-408f-a8df-88c7b82a20c3\" style=\"height: 525px; width: 100%;\" class=\"plotly-graph-div\"></div><script type=\"text/javascript\">require([\"plotly\"], function(Plotly) { window.PLOTLYENV=window.PLOTLYENV || {};window.PLOTLYENV.BASE_URL=\"https://plot.ly\";Plotly.newPlot(\"80d521fd-5260-408f-a8df-88c7b82a20c3\", [{\"x\": [\"bobby\", \"susan\", \"eli\", \"malcolm\"], \"y\": [3, 5, 7, 9], \"type\": \"bar\", \"uid\": \"0e63c498-c09a-11e8-b7a1-0242ac110006\"}], {}, {\"showLink\": true, \"linkText\": \"Export to plot.ly\"})});</script>"
      ],
      "text/vnd.plotly.v1+html": [
       "<div id=\"80d521fd-5260-408f-a8df-88c7b82a20c3\" style=\"height: 525px; width: 100%;\" class=\"plotly-graph-div\"></div><script type=\"text/javascript\">require([\"plotly\"], function(Plotly) { window.PLOTLYENV=window.PLOTLYENV || {};window.PLOTLYENV.BASE_URL=\"https://plot.ly\";Plotly.newPlot(\"80d521fd-5260-408f-a8df-88c7b82a20c3\", [{\"x\": [\"bobby\", \"susan\", \"eli\", \"malcolm\"], \"y\": [3, 5, 7, 9], \"type\": \"bar\", \"uid\": \"0e63c498-c09a-11e8-b7a1-0242ac110006\"}], {}, {\"showLink\": true, \"linkText\": \"Export to plot.ly\"})});</script>"
      ]
     },
     "metadata": {},
     "output_type": "display_data"
    }
   ],
   "source": [
    "bar_trace_via_constructor = graph_objs.Bar(x=['bobby', 'susan', 'eli', 'malcolm'],y=[3, 5, 7, 9])\n",
    "\n",
    "plotly.offline.iplot([bar_trace_via_constructor])"
   ]
  },
  {
   "cell_type": "markdown",
   "metadata": {},
   "source": [
    "Now let's look at some constructors for make other traces.  "
   ]
  },
  {
   "cell_type": "code",
   "execution_count": 12,
   "metadata": {},
   "outputs": [
    {
     "data": {
      "text/plain": [
       "Scatter()"
      ]
     },
     "execution_count": 12,
     "metadata": {},
     "output_type": "execute_result"
    }
   ],
   "source": [
    "graph_objs.Scatter()"
   ]
  },
  {
   "cell_type": "code",
   "execution_count": 13,
   "metadata": {},
   "outputs": [
    {
     "data": {
      "text/plain": [
       "Pie()"
      ]
     },
     "execution_count": 13,
     "metadata": {},
     "output_type": "execute_result"
    }
   ],
   "source": [
    "graph_objs.Pie()"
   ]
  },
  {
   "cell_type": "code",
   "execution_count": 15,
   "metadata": {},
   "outputs": [
    {
     "data": {
      "application/vnd.plotly.v1+json": {
       "data": [
        {
         "labels": [
          "chocolate",
          "vanilla",
          "strawberry"
         ],
         "type": "pie",
         "uid": "5c7dcd9a-c09a-11e8-b7a1-0242ac110006",
         "values": [
          8,
          7,
          15
         ]
        }
       ],
       "layout": {}
      },
      "text/html": [
       "<div id=\"8c2f8cdb-09d0-40c1-8aa4-b2098c06860b\" style=\"height: 525px; width: 100%;\" class=\"plotly-graph-div\"></div><script type=\"text/javascript\">require([\"plotly\"], function(Plotly) { window.PLOTLYENV=window.PLOTLYENV || {};window.PLOTLYENV.BASE_URL=\"https://plot.ly\";Plotly.newPlot(\"8c2f8cdb-09d0-40c1-8aa4-b2098c06860b\", [{\"labels\": [\"chocolate\", \"vanilla\", \"strawberry\"], \"values\": [8, 7, 15], \"type\": \"pie\", \"uid\": \"5c81576c-c09a-11e8-b7a1-0242ac110006\"}], {}, {\"showLink\": true, \"linkText\": \"Export to plot.ly\"})});</script>"
      ],
      "text/vnd.plotly.v1+html": [
       "<div id=\"8c2f8cdb-09d0-40c1-8aa4-b2098c06860b\" style=\"height: 525px; width: 100%;\" class=\"plotly-graph-div\"></div><script type=\"text/javascript\">require([\"plotly\"], function(Plotly) { window.PLOTLYENV=window.PLOTLYENV || {};window.PLOTLYENV.BASE_URL=\"https://plot.ly\";Plotly.newPlot(\"8c2f8cdb-09d0-40c1-8aa4-b2098c06860b\", [{\"labels\": [\"chocolate\", \"vanilla\", \"strawberry\"], \"values\": [8, 7, 15], \"type\": \"pie\", \"uid\": \"5c81576c-c09a-11e8-b7a1-0242ac110006\"}], {}, {\"showLink\": true, \"linkText\": \"Export to plot.ly\"})});</script>"
      ]
     },
     "metadata": {},
     "output_type": "display_data"
    }
   ],
   "source": [
    "pie_trace_via_constructor = graph_objs.Pie(labels=[\"chocolate\", \"vanilla\", \"strawberry\"], values=[8, 7, 15])\n",
    "plotly.offline.iplot([pie_trace_via_constructor])"
   ]
  },
  {
   "cell_type": "markdown",
   "metadata": {},
   "source": [
    "And of course, we can always use the dictionary constructor to create our dictionaries."
   ]
  },
  {
   "cell_type": "code",
   "execution_count": 16,
   "metadata": {},
   "outputs": [
    {
     "data": {
      "application/vnd.plotly.v1+json": {
       "data": [
        {
         "labels": [
          "chocolate",
          "vanilla",
          "strawberry"
         ],
         "type": "pie",
         "uid": "6de84452-c09a-11e8-b7a1-0242ac110006",
         "values": [
          10,
          5,
          15
         ]
        }
       ],
       "layout": {}
      },
      "text/html": [
       "<div id=\"771d78d5-6184-453f-a4c5-ccc6701784d9\" style=\"height: 525px; width: 100%;\" class=\"plotly-graph-div\"></div><script type=\"text/javascript\">require([\"plotly\"], function(Plotly) { window.PLOTLYENV=window.PLOTLYENV || {};window.PLOTLYENV.BASE_URL=\"https://plot.ly\";Plotly.newPlot(\"771d78d5-6184-453f-a4c5-ccc6701784d9\", [{\"labels\": [\"chocolate\", \"vanilla\", \"strawberry\"], \"values\": [10, 5, 15], \"type\": \"pie\", \"uid\": \"6dec2bf8-c09a-11e8-b7a1-0242ac110006\"}], {}, {\"showLink\": true, \"linkText\": \"Export to plot.ly\"})});</script>"
      ],
      "text/vnd.plotly.v1+html": [
       "<div id=\"771d78d5-6184-453f-a4c5-ccc6701784d9\" style=\"height: 525px; width: 100%;\" class=\"plotly-graph-div\"></div><script type=\"text/javascript\">require([\"plotly\"], function(Plotly) { window.PLOTLYENV=window.PLOTLYENV || {};window.PLOTLYENV.BASE_URL=\"https://plot.ly\";Plotly.newPlot(\"771d78d5-6184-453f-a4c5-ccc6701784d9\", [{\"labels\": [\"chocolate\", \"vanilla\", \"strawberry\"], \"values\": [10, 5, 15], \"type\": \"pie\", \"uid\": \"6dec2bf8-c09a-11e8-b7a1-0242ac110006\"}], {}, {\"showLink\": true, \"linkText\": \"Export to plot.ly\"})});</script>"
      ]
     },
     "metadata": {},
     "output_type": "display_data"
    }
   ],
   "source": [
    "pie_trace = dict(type=\"pie\", labels=[\"chocolate\", \"vanilla\", \"strawberry\"], values=[10, 5, 15])\n",
    "\n",
    "plotly.offline.iplot([pie_trace])"
   ]
  },
  {
   "cell_type": "markdown",
   "metadata": {},
   "source": [
    "### Modifying a Chart Layout"
   ]
  },
  {
   "cell_type": "markdown",
   "metadata": {},
   "source": [
    "So far we have seen how to specify attributes of traces or charts, which display our data.  Now let's see how to modify the overall layout in our chart.\n",
    "\n",
    "Note that the format of our traces will not change."
   ]
  },
  {
   "cell_type": "code",
   "execution_count": 17,
   "metadata": {},
   "outputs": [],
   "source": [
    "trace_of_data = {'x': [1.5, 2.5, 3.5, 4.5], 'y': [3, 5, 7, 9], \n",
    "                 'marker': {'color': 'blue'},\n",
    "                 'name': 'Our nice line'}"
   ]
  },
  {
   "cell_type": "markdown",
   "metadata": {},
   "source": [
    "However, instead of passing to our `iplot` function a list of traces, we pass our `iplot` function a dictionary with a `data` key, which has a value of a list of traces.  The `layout` key points to a dictionary representing our layout."
   ]
  },
  {
   "cell_type": "code",
   "execution_count": 18,
   "metadata": {},
   "outputs": [
    {
     "ename": "ValueError",
     "evalue": "Invalid property specified for object of type plotly.graph_objs.Layout: 'type'\n\n    Valid properties:\n        angularaxis\n            plotly.graph_objs.layout.AngularAxis instance or dict\n            with compatible properties\n        annotations\n            plotly.graph_objs.layout.Annotation instance or dict\n            with compatible properties\n        autosize\n            Determines whether or not a layout width or height that\n            has been left undefined by the user is initialized on\n            each relayout. Note that, regardless of this attribute,\n            an undefined layout width or height is always\n            initialized on the first call to plot.\n        bargap\n            Sets the gap (in plot fraction) between bars of\n            adjacent location coordinates.\n        bargroupgap\n            Sets the gap (in plot fraction) between bars of the\n            same location coordinate.\n        barmode\n            Determines how bars at the same location coordinate are\n            displayed on the graph. With *stack*, the bars are\n            stacked on top of one another With *relative*, the bars\n            are stacked on top of one another, with negative values\n            below the axis, positive values above With *group*, the\n            bars are plotted next to one another centered around\n            the shared location. With *overlay*, the bars are\n            plotted over one another, you might need to an\n            *opacity* to see multiple bars.\n        barnorm\n            Sets the normalization for bar traces on the graph.\n            With *fraction*, the value of each bar is divide by the\n            sum of the values at the location coordinate. With\n            *percent*, the results form *fraction* are presented in\n            percents.\n        boxgap\n            Sets the gap (in plot fraction) between boxes of\n            adjacent location coordinates.\n        boxgroupgap\n            Sets the gap (in plot fraction) between boxes of the\n            same location coordinate.\n        boxmode\n            Determines how boxes at the same location coordinate\n            are displayed on the graph. If *group*, the boxes are\n            plotted next to one another centered around the shared\n            location. If *overlay*, the boxes are plotted over one\n            another, you might need to set *opacity* to see them\n            multiple boxes.\n        calendar\n            Sets the default calendar system to use for\n            interpreting and displaying dates throughout the plot.\n        colorway\n            Sets the default trace colors.\n        datarevision\n            If provided, a changed value tells `Plotly.react` that\n            one or more data arrays has changed. This way you can\n            modify arrays in-place rather than making a complete\n            new copy for an incremental change. If NOT provided,\n            `Plotly.react` assumes that data arrays are being\n            treated as immutable, thus any data array with a\n            different identity from its predecessor contains new\n            data.\n        direction\n            For polar plots only. Sets the direction corresponding\n            to positive angles.\n        dragmode\n            Determines the mode of drag interactions. *select* and\n            *lasso* apply only to scatter traces with markers or\n            text. *orbit* and *turntable* apply only to 3D scenes.\n        font\n            Sets the global font. Note that fonts used in traces\n            and other layout components inherit from the global\n            font.\n        geo\n            plotly.graph_objs.layout.Geo instance or dict with\n            compatible properties\n        grid\n            plotly.graph_objs.layout.Grid instance or dict with\n            compatible properties\n        height\n            Sets the plot's height (in px).\n        hiddenlabels\n\n        hiddenlabelssrc\n            Sets the source reference on plot.ly for  hiddenlabels\n            .\n        hidesources\n            Determines whether or not a text link citing the data\n            source is placed at the bottom-right cored of the\n            figure. Has only an effect only on graphs that have\n            been generated via forked graphs from the plotly\n            service (at https://plot.ly or on-premise).\n        hoverdistance\n            Sets the default distance (in pixels) to look for data\n            to add hover labels (-1 means no cutoff, 0 means no\n            looking for data). This is only a real distance for\n            hovering on point-like objects, like scatter points.\n            For area-like objects (bars, scatter fills, etc)\n            hovering is on inside the area and off outside, but\n            these objects will not supersede hover on point-like\n            objects in case of conflict.\n        hoverlabel\n            plotly.graph_objs.layout.Hoverlabel instance or dict\n            with compatible properties\n        hovermode\n            Determines the mode of hover interactions.\n        images\n            plotly.graph_objs.layout.Image instance or dict with\n            compatible properties\n        legend\n            plotly.graph_objs.layout.Legend instance or dict with\n            compatible properties\n        mapbox\n            plotly.graph_objs.layout.Mapbox instance or dict with\n            compatible properties\n        margin\n            plotly.graph_objs.layout.Margin instance or dict with\n            compatible properties\n        orientation\n            For polar plots only. Rotates the entire polar by the\n            given angle.\n        paper_bgcolor\n            Sets the color of paper where the graph is drawn.\n        plot_bgcolor\n            Sets the color of plotting area in-between x and y\n            axes.\n        polar\n            plotly.graph_objs.layout.Polar instance or dict with\n            compatible properties\n        radialaxis\n            plotly.graph_objs.layout.RadialAxis instance or dict\n            with compatible properties\n        scene\n            plotly.graph_objs.layout.Scene instance or dict with\n            compatible properties\n        selectdirection\n            When \"dragmode\" is set to \"select\", this limits the\n            selection of the drag to horizontal, vertical or\n            diagonal. \"h\" only allows horizontal selection, \"v\"\n            only vertical, \"d\" only diagonal and \"any\" sets no\n            limit.\n        separators\n            Sets the decimal and thousand separators. For example,\n            *. * puts a '.' before decimals and a space between\n            thousands. In English locales, dflt is *.,* but other\n            locales may alter this default.\n        shapes\n            plotly.graph_objs.layout.Shape instance or dict with\n            compatible properties\n        showlegend\n            Determines whether or not a legend is drawn.\n        sliders\n            plotly.graph_objs.layout.Slider instance or dict with\n            compatible properties\n        spikedistance\n            Sets the default distance (in pixels) to look for data\n            to draw spikelines to (-1 means no cutoff, 0 means no\n            looking for data). As with hoverdistance, distance does\n            not apply to area-like objects. In addition, some\n            objects can be hovered on but will not generate\n            spikelines, such as scatter fills.\n        template\n            Default attributes to be applied to the plot. Templates\n            can be created from existing plots using\n            `Plotly.makeTemplate`, or created manually. They should\n            be objects with format: `{layout: layoutTemplate, data:\n            {[type]: [traceTemplate, ...]}, ...}` `layoutTemplate`\n            and `traceTemplate` are objects matching the attribute\n            structure of `layout` and a data trace.  Trace\n            templates are applied cyclically to traces of each\n            type. Container arrays (eg `annotations`) have special\n            handling: An object ending in `defaults` (eg\n            `annotationdefaults`) is applied to each array item.\n            But if an item has a `templateitemname` key we look in\n            the template array for an item with matching `name` and\n            apply that instead. If no matching `name` is found we\n            mark the item invisible. Any named template item not\n            referenced is appended to the end of the array, so you\n            can use this for a watermark annotation or a logo\n            image, for example. To omit one of these items on the\n            plot, make an item with matching `templateitemname` and\n            `visible: false`.\n        ternary\n            plotly.graph_objs.layout.Ternary instance or dict with\n            compatible properties\n        title\n            Sets the plot's title.\n        titlefont\n            Sets the title font.\n        updatemenus\n            plotly.graph_objs.layout.Updatemenu instance or dict\n            with compatible properties\n        violingap\n            Sets the gap (in plot fraction) between violins of\n            adjacent location coordinates.\n        violingroupgap\n            Sets the gap (in plot fraction) between violins of the\n            same location coordinate.\n        violinmode\n            Determines how violins at the same location coordinate\n            are displayed on the graph. If *group*, the violins are\n            plotted next to one another centered around the shared\n            location. If *overlay*, the violins are plotted over\n            one another, you might need to set *opacity* to see\n            them multiple violins.\n        width\n            Sets the plot's width (in px).\n        xaxis\n            plotly.graph_objs.layout.XAxis instance or dict with\n            compatible properties\n        yaxis\n            plotly.graph_objs.layout.YAxis instance or dict with\n            compatible properties\n        ",
     "output_type": "error",
     "traceback": [
      "\u001b[0;31m\u001b[0m",
      "\u001b[0;31mValueError\u001b[0mTraceback (most recent call last)",
      "\u001b[0;32m<ipython-input-18-3faea434ae44>\u001b[0m in \u001b[0;36m<module>\u001b[0;34m()\u001b[0m\n\u001b[1;32m      4\u001b[0m \u001b[0mfigure\u001b[0m \u001b[0;34m=\u001b[0m \u001b[0;34m{\u001b[0m\u001b[0;34m'data'\u001b[0m\u001b[0;34m:\u001b[0m \u001b[0;34m[\u001b[0m\u001b[0mtrace_of_data\u001b[0m\u001b[0;34m]\u001b[0m\u001b[0;34m,\u001b[0m \u001b[0;34m'layout'\u001b[0m\u001b[0;34m:\u001b[0m \u001b[0mlayout\u001b[0m\u001b[0;34m}\u001b[0m\u001b[0;34m\u001b[0m\u001b[0m\n\u001b[1;32m      5\u001b[0m \u001b[0;34m\u001b[0m\u001b[0m\n\u001b[0;32m----> 6\u001b[0;31m \u001b[0mplotly\u001b[0m\u001b[0;34m.\u001b[0m\u001b[0moffline\u001b[0m\u001b[0;34m.\u001b[0m\u001b[0miplot\u001b[0m\u001b[0;34m(\u001b[0m\u001b[0mfigure\u001b[0m\u001b[0;34m)\u001b[0m\u001b[0;34m\u001b[0m\u001b[0m\n\u001b[0m",
      "\u001b[0;32m/opt/conda/lib/python3.6/site-packages/plotly/offline/offline.py\u001b[0m in \u001b[0;36miplot\u001b[0;34m(figure_or_data, show_link, link_text, validate, image, filename, image_width, image_height, config)\u001b[0m\n\u001b[1;32m    334\u001b[0m     \u001b[0mconfig\u001b[0m\u001b[0;34m.\u001b[0m\u001b[0msetdefault\u001b[0m\u001b[0;34m(\u001b[0m\u001b[0;34m'linkText'\u001b[0m\u001b[0;34m,\u001b[0m \u001b[0mlink_text\u001b[0m\u001b[0;34m)\u001b[0m\u001b[0;34m\u001b[0m\u001b[0m\n\u001b[1;32m    335\u001b[0m \u001b[0;34m\u001b[0m\u001b[0m\n\u001b[0;32m--> 336\u001b[0;31m     \u001b[0mfigure\u001b[0m \u001b[0;34m=\u001b[0m \u001b[0mtools\u001b[0m\u001b[0;34m.\u001b[0m\u001b[0mreturn_figure_from_figure_or_data\u001b[0m\u001b[0;34m(\u001b[0m\u001b[0mfigure_or_data\u001b[0m\u001b[0;34m,\u001b[0m \u001b[0mvalidate\u001b[0m\u001b[0;34m)\u001b[0m\u001b[0;34m\u001b[0m\u001b[0m\n\u001b[0m\u001b[1;32m    337\u001b[0m \u001b[0;34m\u001b[0m\u001b[0m\n\u001b[1;32m    338\u001b[0m     \u001b[0;31m# Though it can add quite a bit to the display-bundle size, we include\u001b[0m\u001b[0;34m\u001b[0m\u001b[0;34m\u001b[0m\u001b[0m\n",
      "\u001b[0;32m/opt/conda/lib/python3.6/site-packages/plotly/tools.py\u001b[0m in \u001b[0;36mreturn_figure_from_figure_or_data\u001b[0;34m(figure_or_data, validate_figure)\u001b[0m\n\u001b[1;32m   1473\u001b[0m \u001b[0;34m\u001b[0m\u001b[0m\n\u001b[1;32m   1474\u001b[0m         \u001b[0;32mtry\u001b[0m\u001b[0;34m:\u001b[0m\u001b[0;34m\u001b[0m\u001b[0m\n\u001b[0;32m-> 1475\u001b[0;31m             \u001b[0mfigure\u001b[0m \u001b[0;34m=\u001b[0m \u001b[0mFigure\u001b[0m\u001b[0;34m(\u001b[0m\u001b[0;34m**\u001b[0m\u001b[0mfigure\u001b[0m\u001b[0;34m)\u001b[0m\u001b[0;34m.\u001b[0m\u001b[0mto_dict\u001b[0m\u001b[0;34m(\u001b[0m\u001b[0;34m)\u001b[0m\u001b[0;34m\u001b[0m\u001b[0m\n\u001b[0m\u001b[1;32m   1476\u001b[0m         \u001b[0;32mexcept\u001b[0m \u001b[0mexceptions\u001b[0m\u001b[0;34m.\u001b[0m\u001b[0mPlotlyError\u001b[0m \u001b[0;32mas\u001b[0m \u001b[0merr\u001b[0m\u001b[0;34m:\u001b[0m\u001b[0;34m\u001b[0m\u001b[0m\n\u001b[1;32m   1477\u001b[0m             raise exceptions.PlotlyError(\"Invalid 'figure_or_data' argument. \"\n",
      "\u001b[0;32m/opt/conda/lib/python3.6/site-packages/plotly/graph_objs/_figure.py\u001b[0m in \u001b[0;36m__init__\u001b[0;34m(self, data, layout, frames)\u001b[0m\n\u001b[1;32m    312\u001b[0m                         \u001b[0mrespective\u001b[0m \u001b[0mtraces\u001b[0m \u001b[0;32min\u001b[0m \u001b[0mthe\u001b[0m \u001b[0mdata\u001b[0m \u001b[0mattribute\u001b[0m\u001b[0;34m\u001b[0m\u001b[0m\n\u001b[1;32m    313\u001b[0m         \"\"\"\n\u001b[0;32m--> 314\u001b[0;31m         \u001b[0msuper\u001b[0m\u001b[0;34m(\u001b[0m\u001b[0mFigure\u001b[0m\u001b[0;34m,\u001b[0m \u001b[0mself\u001b[0m\u001b[0;34m)\u001b[0m\u001b[0;34m.\u001b[0m\u001b[0m__init__\u001b[0m\u001b[0;34m(\u001b[0m\u001b[0mdata\u001b[0m\u001b[0;34m,\u001b[0m \u001b[0mlayout\u001b[0m\u001b[0;34m,\u001b[0m \u001b[0mframes\u001b[0m\u001b[0;34m)\u001b[0m\u001b[0;34m\u001b[0m\u001b[0m\n\u001b[0m\u001b[1;32m    315\u001b[0m \u001b[0;34m\u001b[0m\u001b[0m\n\u001b[1;32m    316\u001b[0m     def add_area(\n",
      "\u001b[0;32m/opt/conda/lib/python3.6/site-packages/plotly/basedatatypes.py\u001b[0m in \u001b[0;36m__init__\u001b[0;34m(self, data, layout_plotly, frames)\u001b[0m\n\u001b[1;32m    155\u001b[0m \u001b[0;34m\u001b[0m\u001b[0m\n\u001b[1;32m    156\u001b[0m         \u001b[0;31m# ### Import Layout ###\u001b[0m\u001b[0;34m\u001b[0m\u001b[0;34m\u001b[0m\u001b[0m\n\u001b[0;32m--> 157\u001b[0;31m         \u001b[0mself\u001b[0m\u001b[0;34m.\u001b[0m\u001b[0m_layout_obj\u001b[0m \u001b[0;34m=\u001b[0m \u001b[0mself\u001b[0m\u001b[0;34m.\u001b[0m\u001b[0m_layout_validator\u001b[0m\u001b[0;34m.\u001b[0m\u001b[0mvalidate_coerce\u001b[0m\u001b[0;34m(\u001b[0m\u001b[0mlayout\u001b[0m\u001b[0;34m)\u001b[0m\u001b[0;34m\u001b[0m\u001b[0m\n\u001b[0m\u001b[1;32m    158\u001b[0m \u001b[0;34m\u001b[0m\u001b[0m\n\u001b[1;32m    159\u001b[0m         \u001b[0;31m# ### Import clone of layout properties ###\u001b[0m\u001b[0;34m\u001b[0m\u001b[0;34m\u001b[0m\u001b[0m\n",
      "\u001b[0;32m/opt/conda/lib/python3.6/site-packages/_plotly_utils/basevalidators.py\u001b[0m in \u001b[0;36mvalidate_coerce\u001b[0;34m(self, v)\u001b[0m\n\u001b[1;32m   1790\u001b[0m \u001b[0;34m\u001b[0m\u001b[0m\n\u001b[1;32m   1791\u001b[0m         \u001b[0;32melif\u001b[0m \u001b[0misinstance\u001b[0m\u001b[0;34m(\u001b[0m\u001b[0mv\u001b[0m\u001b[0;34m,\u001b[0m \u001b[0mdict\u001b[0m\u001b[0;34m)\u001b[0m\u001b[0;34m:\u001b[0m\u001b[0;34m\u001b[0m\u001b[0m\n\u001b[0;32m-> 1792\u001b[0;31m             \u001b[0mv\u001b[0m \u001b[0;34m=\u001b[0m \u001b[0mself\u001b[0m\u001b[0;34m.\u001b[0m\u001b[0mdata_class\u001b[0m\u001b[0;34m(\u001b[0m\u001b[0;34m**\u001b[0m\u001b[0mv\u001b[0m\u001b[0;34m)\u001b[0m\u001b[0;34m\u001b[0m\u001b[0m\n\u001b[0m\u001b[1;32m   1793\u001b[0m \u001b[0;34m\u001b[0m\u001b[0m\n\u001b[1;32m   1794\u001b[0m         \u001b[0;32melif\u001b[0m \u001b[0misinstance\u001b[0m\u001b[0;34m(\u001b[0m\u001b[0mv\u001b[0m\u001b[0;34m,\u001b[0m \u001b[0mself\u001b[0m\u001b[0;34m.\u001b[0m\u001b[0mdata_class\u001b[0m\u001b[0;34m)\u001b[0m\u001b[0;34m:\u001b[0m\u001b[0;34m\u001b[0m\u001b[0m\n",
      "\u001b[0;32m/opt/conda/lib/python3.6/site-packages/plotly/graph_objs/_layout.py\u001b[0m in \u001b[0;36m__init__\u001b[0;34m(self, arg, angularaxis, annotations, autosize, bargap, bargroupgap, barmode, barnorm, boxgap, boxgroupgap, boxmode, calendar, colorway, datarevision, direction, dragmode, font, geo, grid, height, hiddenlabels, hiddenlabelssrc, hidesources, hoverdistance, hoverlabel, hovermode, images, legend, mapbox, margin, orientation, paper_bgcolor, plot_bgcolor, polar, radialaxis, scene, selectdirection, separators, shapes, showlegend, sliders, spikedistance, template, ternary, title, titlefont, updatemenus, violingap, violingroupgap, violinmode, width, xaxis, yaxis, **kwargs)\u001b[0m\n\u001b[1;32m   3789\u001b[0m         \u001b[0;31m# Process unknown kwargs\u001b[0m\u001b[0;34m\u001b[0m\u001b[0;34m\u001b[0m\u001b[0m\n\u001b[1;32m   3790\u001b[0m         \u001b[0;31m# ----------------------\u001b[0m\u001b[0;34m\u001b[0m\u001b[0;34m\u001b[0m\u001b[0m\n\u001b[0;32m-> 3791\u001b[0;31m         \u001b[0mself\u001b[0m\u001b[0;34m.\u001b[0m\u001b[0m_process_kwargs\u001b[0m\u001b[0;34m(\u001b[0m\u001b[0;34m**\u001b[0m\u001b[0mdict\u001b[0m\u001b[0;34m(\u001b[0m\u001b[0marg\u001b[0m\u001b[0;34m,\u001b[0m \u001b[0;34m**\u001b[0m\u001b[0mkwargs\u001b[0m\u001b[0;34m)\u001b[0m\u001b[0;34m)\u001b[0m\u001b[0;34m\u001b[0m\u001b[0m\n\u001b[0m",
      "\u001b[0;32m/opt/conda/lib/python3.6/site-packages/plotly/basedatatypes.py\u001b[0m in \u001b[0;36m_process_kwargs\u001b[0;34m(self, **kwargs)\u001b[0m\n\u001b[1;32m   3438\u001b[0m             \u001b[0;32mif\u001b[0m \u001b[0;32mnot\u001b[0m \u001b[0mself\u001b[0m\u001b[0;34m.\u001b[0m\u001b[0m_subplotid_prop_re\u001b[0m\u001b[0;34m.\u001b[0m\u001b[0mmatch\u001b[0m\u001b[0;34m(\u001b[0m\u001b[0mk\u001b[0m\u001b[0;34m)\u001b[0m\u001b[0;34m\u001b[0m\u001b[0m\n\u001b[1;32m   3439\u001b[0m         }\n\u001b[0;32m-> 3440\u001b[0;31m         \u001b[0msuper\u001b[0m\u001b[0;34m(\u001b[0m\u001b[0mBaseLayoutHierarchyType\u001b[0m\u001b[0;34m,\u001b[0m \u001b[0mself\u001b[0m\u001b[0;34m)\u001b[0m\u001b[0;34m.\u001b[0m\u001b[0m_process_kwargs\u001b[0m\u001b[0;34m(\u001b[0m\u001b[0;34m**\u001b[0m\u001b[0munknown_kwargs\u001b[0m\u001b[0;34m)\u001b[0m\u001b[0;34m\u001b[0m\u001b[0m\n\u001b[0m\u001b[1;32m   3441\u001b[0m \u001b[0;34m\u001b[0m\u001b[0m\n\u001b[1;32m   3442\u001b[0m         subplot_kwargs = {\n",
      "\u001b[0;32m/opt/conda/lib/python3.6/site-packages/plotly/basedatatypes.py\u001b[0m in \u001b[0;36m_process_kwargs\u001b[0;34m(self, **kwargs)\u001b[0m\n\u001b[1;32m   2253\u001b[0m         \u001b[0mProcess\u001b[0m \u001b[0many\u001b[0m \u001b[0mextra\u001b[0m \u001b[0mkwargs\u001b[0m \u001b[0mthat\u001b[0m \u001b[0mare\u001b[0m \u001b[0;32mnot\u001b[0m \u001b[0mpredefined\u001b[0m \u001b[0;32mas\u001b[0m \u001b[0mconstructor\u001b[0m \u001b[0mparams\u001b[0m\u001b[0;34m\u001b[0m\u001b[0m\n\u001b[1;32m   2254\u001b[0m         \"\"\"\n\u001b[0;32m-> 2255\u001b[0;31m         \u001b[0mself\u001b[0m\u001b[0;34m.\u001b[0m\u001b[0m_raise_on_invalid_property_error\u001b[0m\u001b[0;34m(\u001b[0m\u001b[0;34m*\u001b[0m\u001b[0mkwargs\u001b[0m\u001b[0;34m.\u001b[0m\u001b[0mkeys\u001b[0m\u001b[0;34m(\u001b[0m\u001b[0;34m)\u001b[0m\u001b[0;34m)\u001b[0m\u001b[0;34m\u001b[0m\u001b[0m\n\u001b[0m\u001b[1;32m   2256\u001b[0m \u001b[0;34m\u001b[0m\u001b[0m\n\u001b[1;32m   2257\u001b[0m     \u001b[0;34m@\u001b[0m\u001b[0mproperty\u001b[0m\u001b[0;34m\u001b[0m\u001b[0m\n",
      "\u001b[0;32m/opt/conda/lib/python3.6/site-packages/plotly/basedatatypes.py\u001b[0m in \u001b[0;36m_raise_on_invalid_property_error\u001b[0;34m(self, *args)\u001b[0m\n\u001b[1;32m   2838\u001b[0m                                  \u001b[0mfull_obj_name\u001b[0m\u001b[0;34m=\u001b[0m\u001b[0mfull_obj_name\u001b[0m\u001b[0;34m,\u001b[0m\u001b[0;34m\u001b[0m\u001b[0m\n\u001b[1;32m   2839\u001b[0m                                  \u001b[0minvalid_str\u001b[0m\u001b[0;34m=\u001b[0m\u001b[0minvalid_str\u001b[0m\u001b[0;34m,\u001b[0m\u001b[0;34m\u001b[0m\u001b[0m\n\u001b[0;32m-> 2840\u001b[0;31m                                  prop_descriptions=self._prop_descriptions))\n\u001b[0m\u001b[1;32m   2841\u001b[0m \u001b[0;34m\u001b[0m\u001b[0m\n\u001b[1;32m   2842\u001b[0m     \u001b[0;32mdef\u001b[0m \u001b[0mupdate\u001b[0m\u001b[0;34m(\u001b[0m\u001b[0mself\u001b[0m\u001b[0;34m,\u001b[0m \u001b[0mdict1\u001b[0m\u001b[0;34m=\u001b[0m\u001b[0;32mNone\u001b[0m\u001b[0;34m,\u001b[0m \u001b[0;34m**\u001b[0m\u001b[0mkwargs\u001b[0m\u001b[0;34m)\u001b[0m\u001b[0;34m:\u001b[0m\u001b[0;34m\u001b[0m\u001b[0m\n",
      "\u001b[0;31mValueError\u001b[0m: Invalid property specified for object of type plotly.graph_objs.Layout: 'type'\n\n    Valid properties:\n        angularaxis\n            plotly.graph_objs.layout.AngularAxis instance or dict\n            with compatible properties\n        annotations\n            plotly.graph_objs.layout.Annotation instance or dict\n            with compatible properties\n        autosize\n            Determines whether or not a layout width or height that\n            has been left undefined by the user is initialized on\n            each relayout. Note that, regardless of this attribute,\n            an undefined layout width or height is always\n            initialized on the first call to plot.\n        bargap\n            Sets the gap (in plot fraction) between bars of\n            adjacent location coordinates.\n        bargroupgap\n            Sets the gap (in plot fraction) between bars of the\n            same location coordinate.\n        barmode\n            Determines how bars at the same location coordinate are\n            displayed on the graph. With *stack*, the bars are\n            stacked on top of one another With *relative*, the bars\n            are stacked on top of one another, with negative values\n            below the axis, positive values above With *group*, the\n            bars are plotted next to one another centered around\n            the shared location. With *overlay*, the bars are\n            plotted over one another, you might need to an\n            *opacity* to see multiple bars.\n        barnorm\n            Sets the normalization for bar traces on the graph.\n            With *fraction*, the value of each bar is divide by the\n            sum of the values at the location coordinate. With\n            *percent*, the results form *fraction* are presented in\n            percents.\n        boxgap\n            Sets the gap (in plot fraction) between boxes of\n            adjacent location coordinates.\n        boxgroupgap\n            Sets the gap (in plot fraction) between boxes of the\n            same location coordinate.\n        boxmode\n            Determines how boxes at the same location coordinate\n            are displayed on the graph. If *group*, the boxes are\n            plotted next to one another centered around the shared\n            location. If *overlay*, the boxes are plotted over one\n            another, you might need to set *opacity* to see them\n            multiple boxes.\n        calendar\n            Sets the default calendar system to use for\n            interpreting and displaying dates throughout the plot.\n        colorway\n            Sets the default trace colors.\n        datarevision\n            If provided, a changed value tells `Plotly.react` that\n            one or more data arrays has changed. This way you can\n            modify arrays in-place rather than making a complete\n            new copy for an incremental change. If NOT provided,\n            `Plotly.react` assumes that data arrays are being\n            treated as immutable, thus any data array with a\n            different identity from its predecessor contains new\n            data.\n        direction\n            For polar plots only. Sets the direction corresponding\n            to positive angles.\n        dragmode\n            Determines the mode of drag interactions. *select* and\n            *lasso* apply only to scatter traces with markers or\n            text. *orbit* and *turntable* apply only to 3D scenes.\n        font\n            Sets the global font. Note that fonts used in traces\n            and other layout components inherit from the global\n            font.\n        geo\n            plotly.graph_objs.layout.Geo instance or dict with\n            compatible properties\n        grid\n            plotly.graph_objs.layout.Grid instance or dict with\n            compatible properties\n        height\n            Sets the plot's height (in px).\n        hiddenlabels\n\n        hiddenlabelssrc\n            Sets the source reference on plot.ly for  hiddenlabels\n            .\n        hidesources\n            Determines whether or not a text link citing the data\n            source is placed at the bottom-right cored of the\n            figure. Has only an effect only on graphs that have\n            been generated via forked graphs from the plotly\n            service (at https://plot.ly or on-premise).\n        hoverdistance\n            Sets the default distance (in pixels) to look for data\n            to add hover labels (-1 means no cutoff, 0 means no\n            looking for data). This is only a real distance for\n            hovering on point-like objects, like scatter points.\n            For area-like objects (bars, scatter fills, etc)\n            hovering is on inside the area and off outside, but\n            these objects will not supersede hover on point-like\n            objects in case of conflict.\n        hoverlabel\n            plotly.graph_objs.layout.Hoverlabel instance or dict\n            with compatible properties\n        hovermode\n            Determines the mode of hover interactions.\n        images\n            plotly.graph_objs.layout.Image instance or dict with\n            compatible properties\n        legend\n            plotly.graph_objs.layout.Legend instance or dict with\n            compatible properties\n        mapbox\n            plotly.graph_objs.layout.Mapbox instance or dict with\n            compatible properties\n        margin\n            plotly.graph_objs.layout.Margin instance or dict with\n            compatible properties\n        orientation\n            For polar plots only. Rotates the entire polar by the\n            given angle.\n        paper_bgcolor\n            Sets the color of paper where the graph is drawn.\n        plot_bgcolor\n            Sets the color of plotting area in-between x and y\n            axes.\n        polar\n            plotly.graph_objs.layout.Polar instance or dict with\n            compatible properties\n        radialaxis\n            plotly.graph_objs.layout.RadialAxis instance or dict\n            with compatible properties\n        scene\n            plotly.graph_objs.layout.Scene instance or dict with\n            compatible properties\n        selectdirection\n            When \"dragmode\" is set to \"select\", this limits the\n            selection of the drag to horizontal, vertical or\n            diagonal. \"h\" only allows horizontal selection, \"v\"\n            only vertical, \"d\" only diagonal and \"any\" sets no\n            limit.\n        separators\n            Sets the decimal and thousand separators. For example,\n            *. * puts a '.' before decimals and a space between\n            thousands. In English locales, dflt is *.,* but other\n            locales may alter this default.\n        shapes\n            plotly.graph_objs.layout.Shape instance or dict with\n            compatible properties\n        showlegend\n            Determines whether or not a legend is drawn.\n        sliders\n            plotly.graph_objs.layout.Slider instance or dict with\n            compatible properties\n        spikedistance\n            Sets the default distance (in pixels) to look for data\n            to draw spikelines to (-1 means no cutoff, 0 means no\n            looking for data). As with hoverdistance, distance does\n            not apply to area-like objects. In addition, some\n            objects can be hovered on but will not generate\n            spikelines, such as scatter fills.\n        template\n            Default attributes to be applied to the plot. Templates\n            can be created from existing plots using\n            `Plotly.makeTemplate`, or created manually. They should\n            be objects with format: `{layout: layoutTemplate, data:\n            {[type]: [traceTemplate, ...]}, ...}` `layoutTemplate`\n            and `traceTemplate` are objects matching the attribute\n            structure of `layout` and a data trace.  Trace\n            templates are applied cyclically to traces of each\n            type. Container arrays (eg `annotations`) have special\n            handling: An object ending in `defaults` (eg\n            `annotationdefaults`) is applied to each array item.\n            But if an item has a `templateitemname` key we look in\n            the template array for an item with matching `name` and\n            apply that instead. If no matching `name` is found we\n            mark the item invisible. Any named template item not\n            referenced is appended to the end of the array, so you\n            can use this for a watermark annotation or a logo\n            image, for example. To omit one of these items on the\n            plot, make an item with matching `templateitemname` and\n            `visible: false`.\n        ternary\n            plotly.graph_objs.layout.Ternary instance or dict with\n            compatible properties\n        title\n            Sets the plot's title.\n        titlefont\n            Sets the title font.\n        updatemenus\n            plotly.graph_objs.layout.Updatemenu instance or dict\n            with compatible properties\n        violingap\n            Sets the gap (in plot fraction) between violins of\n            adjacent location coordinates.\n        violingroupgap\n            Sets the gap (in plot fraction) between violins of the\n            same location coordinate.\n        violinmode\n            Determines how violins at the same location coordinate\n            are displayed on the graph. If *group*, the violins are\n            plotted next to one another centered around the shared\n            location. If *overlay*, the violins are plotted over\n            one another, you might need to set *opacity* to see\n            them multiple violins.\n        width\n            Sets the plot's width (in px).\n        xaxis\n            plotly.graph_objs.layout.XAxis instance or dict with\n            compatible properties\n        yaxis\n            plotly.graph_objs.layout.YAxis instance or dict with\n            compatible properties\n        "
     ]
    }
   ],
   "source": [
    "layout = {'type': 'Scatter Plot'}\n",
    "trace_of_data = {'x': [1.5, 2.5, 3.5, 4.5], 'y': [3, 5, 7, 9], 'marker': {'color': 'blue'}, 'name': 'Our nice line'}\n",
    "\n",
    "figure = {'data': [trace_of_data], 'layout': layout}\n",
    "\n",
    "plotly.offline.iplot(figure)"
   ]
  },
  {
   "cell_type": "markdown",
   "metadata": {},
   "source": [
    "So above we used the `layout` to name our plot's title.  Now that we have used `layout` to specify our chart's title, let's also use it to specify the range of our x axis and y axis.  Previously, we were allowing Plotly to automatically set the range.  We can also adjust the range to meet our specifications."
   ]
  },
  {
   "cell_type": "code",
   "execution_count": 16,
   "metadata": {},
   "outputs": [
    {
     "data": {
      "application/vnd.plotly.v1+json": {
       "data": [
        {
         "marker": {
          "color": "blue"
         },
         "name": "Our nice line",
         "type": "scatter",
         "uid": "c9caa0c2-b270-11e8-afb8-0242ac110021",
         "x": [
          1.5,
          2.5,
          3.5,
          4.5
         ],
         "y": [
          3,
          5,
          7,
          9
         ]
        }
       ],
       "layout": {
        "title": "Scatter Plot",
        "xaxis": {
         "range": [
          1,
          10
         ]
        },
        "yaxis": {
         "range": [
          1,
          10
         ]
        }
       }
      },
      "text/html": [
       "<div id=\"ff3c3192-ae05-4ae1-a659-8339b944f492\" style=\"height: 525px; width: 100%;\" class=\"plotly-graph-div\"></div><script type=\"text/javascript\">require([\"plotly\"], function(Plotly) { window.PLOTLYENV=window.PLOTLYENV || {};window.PLOTLYENV.BASE_URL=\"https://plot.ly\";Plotly.newPlot(\"ff3c3192-ae05-4ae1-a659-8339b944f492\", [{\"marker\": {\"color\": \"blue\"}, \"name\": \"Our nice line\", \"x\": [1.5, 2.5, 3.5, 4.5], \"y\": [3, 5, 7, 9], \"type\": \"scatter\", \"uid\": \"c9d010c0-b270-11e8-afb8-0242ac110021\"}], {\"title\": \"Scatter Plot\", \"xaxis\": {\"range\": [1, 10]}, \"yaxis\": {\"range\": [1, 10]}}, {\"showLink\": true, \"linkText\": \"Export to plot.ly\"})});</script>"
      ],
      "text/vnd.plotly.v1+html": [
       "<div id=\"ff3c3192-ae05-4ae1-a659-8339b944f492\" style=\"height: 525px; width: 100%;\" class=\"plotly-graph-div\"></div><script type=\"text/javascript\">require([\"plotly\"], function(Plotly) { window.PLOTLYENV=window.PLOTLYENV || {};window.PLOTLYENV.BASE_URL=\"https://plot.ly\";Plotly.newPlot(\"ff3c3192-ae05-4ae1-a659-8339b944f492\", [{\"marker\": {\"color\": \"blue\"}, \"name\": \"Our nice line\", \"x\": [1.5, 2.5, 3.5, 4.5], \"y\": [3, 5, 7, 9], \"type\": \"scatter\", \"uid\": \"c9d010c0-b270-11e8-afb8-0242ac110021\"}], {\"title\": \"Scatter Plot\", \"xaxis\": {\"range\": [1, 10]}, \"yaxis\": {\"range\": [1, 10]}}, {\"showLink\": true, \"linkText\": \"Export to plot.ly\"})});</script>"
      ]
     },
     "metadata": {},
     "output_type": "display_data"
    }
   ],
   "source": [
    "layout = {'title': 'Scatter Plot', 'xaxis': {'range': [1, 10]}, 'yaxis': {'range': [1, 10]}}\n",
    "trace_of_data = {'x': [1.5, 2.5, 3.5, 4.5], 'y': [3, 5, 7, 9], 'marker': {'color': 'blue'}, 'name': 'Our nice line'}\n",
    "\n",
    "figure = {'data': [trace_of_data], 'layout': layout}\n",
    "\n",
    "plotly.offline.iplot(figure)"
   ]
  },
  {
   "cell_type": "markdown",
   "metadata": {},
   "source": [
    "We can see how adjusting the range changes our perspective of the plotted x and y values."
   ]
  },
  {
   "cell_type": "markdown",
   "metadata": {},
   "source": [
    "### Summary"
   ]
  },
  {
   "cell_type": "markdown",
   "metadata": {},
   "source": [
    "In this section we explored more of Plotly's library to create different data visualizations.  We created different traces to represent our data, with each trace represented as a dictionary passed to our `iplot` method.  We saw how to display multiple traces in a chart by wrapping the traces in a list.  We learned how to use constructors like `graph_objs.Bar` to create a chart. The constructor creates a dictionary that we can pass to our `iplot` method.  Finally, we moved onto modifying the layout of our charts with another python dictionary."
   ]
  }
 ],
 "metadata": {
  "kernelspec": {
   "display_name": "Python 3",
   "language": "python",
   "name": "python3"
  },
  "language_info": {
   "codemirror_mode": {
    "name": "ipython",
    "version": 3
   },
   "file_extension": ".py",
   "mimetype": "text/x-python",
   "name": "python",
   "nbconvert_exporter": "python",
   "pygments_lexer": "ipython3",
   "version": "3.6.4"
  }
 },
 "nbformat": 4,
 "nbformat_minor": 2
}
